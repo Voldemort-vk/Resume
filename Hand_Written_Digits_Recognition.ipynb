{
  "cells": [
    {
      "cell_type": "code",
      "execution_count": null,
      "metadata": {
        "id": "qYOcn3eAvt3U"
      },
      "outputs": [],
      "source": [
        "import numpy as np\n",
        "from tensorflow.keras.models import Sequential\n",
        "from tensorflow.keras.layers import Conv2D, MaxPooling2D, Dense, Flatten"
      ]
    },
    {
      "cell_type": "code",
      "execution_count": null,
      "metadata": {
        "id": "QFGt3H0Y3bj-"
      },
      "outputs": [],
      "source": [
        "from google.colab import files\n",
        "uploaded = files.upload()"
      ]
    },
    {
      "cell_type": "code",
      "execution_count": null,
      "metadata": {
        "id": "P45IWmCv_Ysx"
      },
      "outputs": [],
      "source": [
        "import io\n",
        "import numpy as np\n",
        "import matplotlib.pyplot as plt\n",
        "import random"
      ]
    },
    {
      "cell_type": "code",
      "execution_count": null,
      "metadata": {
        "id": "EWWRwV5G_kgK"
      },
      "outputs": [],
      "source": [
        "x_train = np.loadtxt(io.BytesIO(uploaded['mnist_train.csv']),delimiter=',')\n",
        "mnist_tn = x_train[:,1:] # mnist_tn contains the 784 pixels of each 60000 training images\n",
        "y_train = x_train[:,0].T # y_train contains labels of training dataset\n",
        "x_test = np.loadtxt(io.BytesIO(uploaded['mnist_test.csv']),delimiter=',')\n",
        "y_test = x_test[:,0].T  # y_test contains labels of training dataset\n",
        "mnist_ts = x_test[:,1:]  # mnist_ts contains the 784 pixels of each 10000 training images"
      ]
    },
    {
      "cell_type": "code",
      "execution_count": null,
      "metadata": {
        "id": "ypv-pfyvAl0x"
      },
      "outputs": [],
      "source": [
        "print(mnist_tn.shape)\n",
        "print(y_train.shape)\n",
        "print(mnist_ts.shape)\n",
        "print(y_test.shape)"
      ]
    },
    {
      "cell_type": "code",
      "execution_count": null,
      "metadata": {
        "id": "vWx9RSNrDes-"
      },
      "outputs": [],
      "source": [
        "index = random.randrange(0,x_train.shape[1])\n",
        "plt.imshow(mnist_tn[index].reshape(28,28), cmap = 'gray')"
      ]
    },
    {
      "cell_type": "code",
      "execution_count": null,
      "metadata": {
        "id": "oTm-Yt0XH-KB"
      },
      "outputs": [],
      "source": [
        "mnist_tn = mnist_tn.reshape(len(mnist_tn),28,28,1)\n",
        "y_train = y_train.reshape(len(y_train),1)\n",
        "mnist_ts = mnist_ts.reshape(len(mnist_ts),28,28,1)\n",
        "y_test = y_test.reshape(len(y_test),1)\n",
        "mnist_tn = mnist_tn/255.0\n",
        "mnist_ts = mnist_ts/255.0"
      ]
    },
    {
      "cell_type": "code",
      "execution_count": null,
      "metadata": {
        "colab": {
          "base_uri": "https://localhost:8080/"
        },
        "id": "bLnwqOkkJzuZ",
        "outputId": "87ad34c5-f3b7-493b-94eb-f44e61057a0b"
      },
      "outputs": [
        {
          "output_type": "stream",
          "name": "stdout",
          "text": [
            "(60000, 28, 28, 1)\n",
            "(60000, 1)\n",
            "(10000, 28, 28, 1)\n",
            "(10000, 1)\n"
          ]
        }
      ],
      "source": [
        "print(mnist_tn.shape)\n",
        "print(y_train.shape)\n",
        "print(mnist_ts.shape)\n",
        "print(y_test.shape)"
      ]
    },
    {
      "cell_type": "code",
      "execution_count": null,
      "metadata": {
        "id": "0a37oOXSJ7Ou"
      },
      "outputs": [],
      "source": [
        "mnist_tn[0,:]"
      ]
    },
    {
      "cell_type": "markdown",
      "metadata": {
        "id": "_TV7hUbmNE5r"
      },
      "source": [
        "#MODEL"
      ]
    },
    {
      "cell_type": "code",
      "execution_count": null,
      "metadata": {
        "id": "pQYgrh_ZKcfd"
      },
      "outputs": [],
      "source": [
        "model = Sequential([\n",
        "    Conv2D(32, (3,3), activation = 'relu', input_shape = (28, 28, 1)),\n",
        "    MaxPooling2D((2,2)),\n",
        "\n",
        "    Conv2D(64, (3,3), activation = 'relu'),\n",
        "    MaxPooling2D((2,2)),\n",
        "\n",
        "    Flatten(),\n",
        "    Dense(128, activation = 'relu'),\n",
        "    Dense(10, activation = 'softmax')\n",
        "])"
      ]
    },
    {
      "cell_type": "code",
      "execution_count": null,
      "metadata": {
        "id": "XQaHedN8Qoga"
      },
      "outputs": [],
      "source": [
        "model.compile(loss = \"sparse_categorical_crossentropy\", optimizer = \"adam\", metrics = [\"accuracy\"])"
      ]
    },
    {
      "cell_type": "code",
      "execution_count": null,
      "metadata": {
        "colab": {
          "base_uri": "https://localhost:8080/"
        },
        "id": "tQa9lysjR-cY",
        "outputId": "9e6edd37-81e5-45dd-9521-21211b05bd5a"
      },
      "outputs": [
        {
          "output_type": "stream",
          "name": "stdout",
          "text": [
            "Epoch 1/5\n",
            "\u001b[1m600/600\u001b[0m \u001b[32m━━━━━━━━━━━━━━━━━━━━\u001b[0m\u001b[37m\u001b[0m \u001b[1m42s\u001b[0m 67ms/step - accuracy: 0.8579 - loss: 0.4600\n",
            "Epoch 2/5\n",
            "\u001b[1m600/600\u001b[0m \u001b[32m━━━━━━━━━━━━━━━━━━━━\u001b[0m\u001b[37m\u001b[0m \u001b[1m42s\u001b[0m 68ms/step - accuracy: 0.9832 - loss: 0.0562\n",
            "Epoch 3/5\n",
            "\u001b[1m600/600\u001b[0m \u001b[32m━━━━━━━━━━━━━━━━━━━━\u001b[0m\u001b[37m\u001b[0m \u001b[1m81s\u001b[0m 67ms/step - accuracy: 0.9887 - loss: 0.0375\n",
            "Epoch 4/5\n",
            "\u001b[1m600/600\u001b[0m \u001b[32m━━━━━━━━━━━━━━━━━━━━\u001b[0m\u001b[37m\u001b[0m \u001b[1m41s\u001b[0m 67ms/step - accuracy: 0.9917 - loss: 0.0282\n",
            "Epoch 5/5\n",
            "\u001b[1m600/600\u001b[0m \u001b[32m━━━━━━━━━━━━━━━━━━━━\u001b[0m\u001b[37m\u001b[0m \u001b[1m42s\u001b[0m 68ms/step - accuracy: 0.9927 - loss: 0.0219\n"
          ]
        },
        {
          "output_type": "execute_result",
          "data": {
            "text/plain": [
              "<keras.src.callbacks.history.History at 0x7c8fb8c54c10>"
            ]
          },
          "metadata": {},
          "execution_count": 22
        }
      ],
      "source": [
        "model.fit(mnist_tn, y_train, epochs = 5, batch_size = 100)"
      ]
    },
    {
      "cell_type": "code",
      "execution_count": null,
      "metadata": {
        "colab": {
          "base_uri": "https://localhost:8080/"
        },
        "id": "yvL8QMTcV3xv",
        "outputId": "85a3f5b3-05b7-4e6f-8e12-2210fcbca9b9"
      },
      "outputs": [
        {
          "output_type": "stream",
          "name": "stdout",
          "text": [
            "\u001b[1m10000/10000\u001b[0m \u001b[32m━━━━━━━━━━━━━━━━━━━━\u001b[0m\u001b[37m\u001b[0m \u001b[1m21s\u001b[0m 2ms/step - accuracy: 0.9862 - loss: 0.0416\n"
          ]
        },
        {
          "output_type": "execute_result",
          "data": {
            "text/plain": [
              "[0.03315218910574913, 0.9886000156402588]"
            ]
          },
          "metadata": {},
          "execution_count": 23
        }
      ],
      "source": [
        "model.evaluate(mnist_ts, y_test, batch_size = 1)"
      ]
    },
    {
      "cell_type": "code",
      "execution_count": null,
      "metadata": {
        "id": "9JOPJ8c6YLmV",
        "colab": {
          "base_uri": "https://localhost:8080/",
          "height": 482
        },
        "outputId": "c41d9f1e-68eb-4043-a50f-9e0e951a44f0"
      },
      "outputs": [
        {
          "output_type": "stream",
          "name": "stdout",
          "text": [
            "\u001b[1m1/1\u001b[0m \u001b[32m━━━━━━━━━━━━━━━━━━━━\u001b[0m\u001b[37m\u001b[0m \u001b[1m0s\u001b[0m 53ms/step\n",
            "Prediction:  8.0\n",
            "Actual:  8.0\n"
          ]
        },
        {
          "output_type": "display_data",
          "data": {
            "text/plain": [
              "<Figure size 640x480 with 1 Axes>"
            ],
            "image/png": "[encoded data removed]"
          },
          "metadata": {}
        }
      ],
      "source": [
        "index = random.randrange(0,x_train.shape[1])\n",
        "\n",
        "#Below 5 lines are generated using ChatGPT 😢\n",
        "image = mnist_ts[index]\n",
        "true_label = y_test[index]\n",
        "\n",
        "prediction = model.predict(image.reshape(1,28,28,1))  # (1,28,28,1) here first 1 shows 1 image is passed then 28 by 28 shows image size and final 1 shows only one colour grading as gray so 1\n",
        "predicted_label = float(np.argmax(prediction))\n",
        "\n",
        "plt.imshow(image.reshape(28, 28), cmap='gray')\n",
        "print('Prediction: ', predicted_label)\n",
        "print('Actual: ', true_label[0])"
      ]
    }
  ],
  "metadata": {
    "colab": {
      "provenance": []
    },
    "kernelspec": {
      "display_name": "Python 3",
      "name": "python3"
    },
    "language_info": {
      "name": "python"
    }
  },
  "nbformat": 4,
  "nbformat_minor": 0
}

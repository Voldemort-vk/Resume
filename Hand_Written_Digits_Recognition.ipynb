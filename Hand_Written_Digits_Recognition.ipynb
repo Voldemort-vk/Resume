{
  "nbformat": 4,
  "nbformat_minor": 0,
  "metadata": {
    "colab": {
      "provenance": []
    },
    "kernelspec": {
      "name": "python3",
      "display_name": "Python 3"
    },
    "language_info": {
      "name": "python"
    }
  },
  "cells": [
    {
      "cell_type": "code",
      "source": [
        "import torch\n",
        "import torchvision\n",
        "from torchvision.datasets import MNIST\n",
        "dataset = MNIST(root = 'data/',download=True)"
      ],
      "metadata": {
        "id": "-D2QKCU_cyp6",
        "colab": {
          "base_uri": "https://localhost:8080/"
        },
        "outputId": "f7a15427-f8bb-4429-9639-6dcab2c49bd3"
      },
      "execution_count": null,
      "outputs": [
        {
          "output_type": "stream",
          "name": "stderr",
          "text": [
            "100%|██████████| 9.91M/9.91M [00:00<00:00, 140MB/s]\n",
            "100%|██████████| 28.9k/28.9k [00:00<00:00, 50.8MB/s]\n",
            "100%|██████████| 1.65M/1.65M [00:00<00:00, 140MB/s]\n",
            "100%|██████████| 4.54k/4.54k [00:00<00:00, 6.00MB/s]\n"
          ]
        }
      ]
    },
    {
      "cell_type": "code",
      "source": [
        "len(dataset)"
      ],
      "metadata": {
        "id": "AwkVsYFnprtX",
        "colab": {
          "base_uri": "https://localhost:8080/"
        },
        "outputId": "a99a8980-6d61-4ef2-d5c2-aa88d8c04602"
      },
      "execution_count": null,
      "outputs": [
        {
          "output_type": "execute_result",
          "data": {
            "text/plain": [
              "60000"
            ]
          },
          "metadata": {},
          "execution_count": 2
        }
      ]
    },
    {
      "cell_type": "code",
      "source": [
        "test_dataset = MNIST(root='data/',train=False)\n",
        "len(test_dataset)"
      ],
      "metadata": {
        "id": "ipew5M98pvZu",
        "colab": {
          "base_uri": "https://localhost:8080/"
        },
        "outputId": "7010ba78-8846-44bd-d7da-3e23ba37cdfc"
      },
      "execution_count": null,
      "outputs": [
        {
          "output_type": "execute_result",
          "data": {
            "text/plain": [
              "10000"
            ]
          },
          "metadata": {},
          "execution_count": 3
        }
      ]
    },
    {
      "cell_type": "code",
      "source": [
        "dataset[0]"
      ],
      "metadata": {
        "id": "eaHFa-tFp944",
        "colab": {
          "base_uri": "https://localhost:8080/"
        },
        "outputId": "296418cb-6b61-40c1-f2a2-112d3f2b0f92"
      },
      "execution_count": null,
      "outputs": [
        {
          "output_type": "execute_result",
          "data": {
            "text/plain": [
              "(<PIL.Image.Image image mode=L size=28x28>, 5)"
            ]
          },
          "metadata": {},
          "execution_count": 4
        }
      ]
    },
    {
      "cell_type": "code",
      "source": [
        "import matplotlib.pyplot as plt\n",
        "%matplotlib inline"
      ],
      "metadata": {
        "id": "-aGB-veQraE7"
      },
      "execution_count": null,
      "outputs": []
    },
    {
      "cell_type": "code",
      "source": [
        "image,label=dataset[10]\n",
        "plt.imshow(image,cmap='gray')\n",
        "print('label:',label)"
      ],
      "metadata": {
        "id": "3ITIvXytswiV",
        "colab": {
          "base_uri": "https://localhost:8080/",
          "height": 447
        },
        "outputId": "026fbb7e-cebe-49a8-90bc-191a6aa95ee1"
      },
      "execution_count": null,
      "outputs": [
        {
          "output_type": "stream",
          "name": "stdout",
          "text": [
            "label: 3\n"
          ]
        },
        {
          "output_type": "display_data",
          "data": {
            "text/plain": [
              "<Figure size 640x480 with 1 Axes>"
            ],
            "image/png": "[encoded data removed]"
          },
          "metadata": {}
        }
      ]
    },
    {
      "cell_type": "code",
      "source": [
        "import torchvision.transforms as transforms\n",
        "dataset = MNIST(root='data/',train=True,transform=transforms.ToTensor())"
      ],
      "metadata": {
        "id": "fafYV5_dudrH"
      },
      "execution_count": null,
      "outputs": []
    },
    {
      "cell_type": "code",
      "source": [
        "img_tensor , label=dataset[0]\n",
        "print(img_tensor.shape,label)"
      ],
      "metadata": {
        "id": "NBRqjM2xuw_l",
        "colab": {
          "base_uri": "https://localhost:8080/"
        },
        "outputId": "6f151353-14b1-4ebc-bdc7-94591629c321"
      },
      "execution_count": null,
      "outputs": [
        {
          "output_type": "stream",
          "name": "stdout",
          "text": [
            "torch.Size([1, 28, 28]) 5\n"
          ]
        }
      ]
    },
    {
      "cell_type": "code",
      "source": [
        "print(img_tensor[:,10:15,10:15])\n",
        "print(torch.max(img_tensor),torch.min(img_tensor))"
      ],
      "metadata": {
        "id": "kNfTnZCGv1uc",
        "colab": {
          "base_uri": "https://localhost:8080/"
        },
        "outputId": "3ef22860-2ed4-492c-9950-d8943fd60ca3"
      },
      "execution_count": null,
      "outputs": [
        {
          "output_type": "stream",
          "name": "stdout",
          "text": [
            "tensor([[[0.0039, 0.6039, 0.9922, 0.3529, 0.0000],\n",
            "         [0.0000, 0.5451, 0.9922, 0.7451, 0.0078],\n",
            "         [0.0000, 0.0431, 0.7451, 0.9922, 0.2745],\n",
            "         [0.0000, 0.0000, 0.1373, 0.9451, 0.8824],\n",
            "         [0.0000, 0.0000, 0.0000, 0.3176, 0.9412]]])\n",
            "tensor(1.) tensor(0.)\n"
          ]
        }
      ]
    },
    {
      "cell_type": "code",
      "source": [
        "plt.imshow(img_tensor[0,10:15,10:15],cmap='gray')"
      ],
      "metadata": {
        "id": "T0m96KQWw9jb",
        "colab": {
          "base_uri": "https://localhost:8080/",
          "height": 447
        },
        "outputId": "d84b0a9a-aa0e-4175-fa75-1b505e948ff2"
      },
      "execution_count": null,
      "outputs": [
        {
          "output_type": "execute_result",
          "data": {
            "text/plain": [
              "<matplotlib.image.AxesImage at 0x788adce5e5a0>"
            ]
          },
          "metadata": {},
          "execution_count": 10
        },
        {
          "output_type": "display_data",
          "data": {
            "text/plain": [
              "<Figure size 640x480 with 1 Axes>"
            ],
            "image/png": "[encoded data removed]"
          },
          "metadata": {}
        }
      ]
    },
    {
      "cell_type": "code",
      "source": [
        "import numpy as np\n",
        "def split_indices(n,val_pct):\n",
        "  n_val = int(val_pct*n)\n",
        "  idxs = np.random.permutation(n)\n",
        "  return idxs[n_val:],idxs[:n_val]"
      ],
      "metadata": {
        "id": "_Jcic4F7yIJI"
      },
      "execution_count": null,
      "outputs": []
    },
    {
      "cell_type": "code",
      "source": [
        "train_indices , val_indices = split_indices(len(dataset),val_pct = 0.2)"
      ],
      "metadata": {
        "id": "edh28ESSyGF1"
      },
      "execution_count": null,
      "outputs": []
    },
    {
      "cell_type": "code",
      "source": [
        "print(len(train_indices),len(val_indices))\n",
        "print('Sample val_indics: ',val_indices[:20])"
      ],
      "metadata": {
        "id": "bV6eSRC8yU3z",
        "colab": {
          "base_uri": "https://localhost:8080/"
        },
        "outputId": "1a214a47-49c1-4c47-e3a0-29e4f4c5f56e"
      },
      "execution_count": null,
      "outputs": [
        {
          "output_type": "stream",
          "name": "stdout",
          "text": [
            "48000 12000\n",
            "Sample val_indics:  [14995 10213  7119 39586  8579 33029 39410 51982 20098 33061  1471 52962\n",
            "  9703 51823 25911 56106 25140 23377 18330 23332]\n"
          ]
        }
      ]
    },
    {
      "cell_type": "code",
      "source": [
        "from torch.utils.data.sampler import SubsetRandomSampler\n",
        "from torch.utils.data.dataloader import DataLoader"
      ],
      "metadata": {
        "id": "N81o4dAOd-GY"
      },
      "execution_count": null,
      "outputs": []
    },
    {
      "cell_type": "code",
      "source": [
        "batch_size = 100\n",
        "train_sample = SubsetRandomSampler(train_indices)\n",
        "train_loader = DataLoader(dataset,batch_size,sampler = train_sample)\n",
        "val_sample = SubsetRandomSampler(val_indices)\n",
        "val_loader = DataLoader(dataset,batch_size,sampler = val_sample)"
      ],
      "metadata": {
        "id": "7FPc12gKeWXY"
      },
      "execution_count": null,
      "outputs": []
    },
    {
      "cell_type": "code",
      "source": [
        "import torch.nn as nn\n",
        "input_size = 28*28\n",
        "num_classes = 10\n",
        "model = nn.Linear(input_size,num_classes)"
      ],
      "metadata": {
        "id": "e5OTZpfce5IP"
      },
      "execution_count": null,
      "outputs": []
    },
    {
      "cell_type": "code",
      "source": [
        "print(model.weight.shape)\n",
        "model.weight"
      ],
      "metadata": {
        "id": "f-eWOoER17h0",
        "colab": {
          "base_uri": "https://localhost:8080/"
        },
        "outputId": "6f216ae4-90c8-4868-c217-1e049c1ba8ee"
      },
      "execution_count": null,
      "outputs": [
        {
          "output_type": "stream",
          "name": "stdout",
          "text": [
            "torch.Size([10, 784])\n"
          ]
        },
        {
          "output_type": "execute_result",
          "data": {
            "text/plain": [
              "Parameter containing:\n",
              "tensor([[-0.0216,  0.0204,  0.0216,  ..., -0.0307,  0.0334, -0.0091],\n",
              "        [ 0.0082, -0.0192, -0.0251,  ...,  0.0154, -0.0241, -0.0016],\n",
              "        [ 0.0159, -0.0347,  0.0271,  ..., -0.0304, -0.0198, -0.0102],\n",
              "        ...,\n",
              "        [ 0.0122, -0.0092, -0.0259,  ...,  0.0075,  0.0306,  0.0211],\n",
              "        [ 0.0229, -0.0103,  0.0195,  ..., -0.0165, -0.0264,  0.0066],\n",
              "        [ 0.0302, -0.0256,  0.0013,  ..., -0.0147, -0.0148, -0.0014]],\n",
              "       requires_grad=True)"
            ]
          },
          "metadata": {},
          "execution_count": 17
        }
      ]
    },
    {
      "cell_type": "code",
      "source": [
        "print(model.bias.shape)\n",
        "model.bias"
      ],
      "metadata": {
        "id": "J0hQlrJ52ibh",
        "colab": {
          "base_uri": "https://localhost:8080/"
        },
        "outputId": "6919b1ad-9b6d-4885-a79e-96185d3954cb"
      },
      "execution_count": null,
      "outputs": [
        {
          "output_type": "stream",
          "name": "stdout",
          "text": [
            "torch.Size([10])\n"
          ]
        },
        {
          "output_type": "execute_result",
          "data": {
            "text/plain": [
              "Parameter containing:\n",
              "tensor([ 0.0170, -0.0063,  0.0248,  0.0353, -0.0207,  0.0193,  0.0286, -0.0219,\n",
              "        -0.0101,  0.0101], requires_grad=True)"
            ]
          },
          "metadata": {},
          "execution_count": 18
        }
      ]
    },
    {
      "cell_type": "code",
      "source": [
        "class MnistModel(nn.Module):\n",
        "  def __init__(self):\n",
        "    super().__init__()\n",
        "    self.linear = nn.Linear(input_size,num_classes)\n",
        "  def forward(self,xb):\n",
        "    xb = xb.reshape(-1,784)\n",
        "    out = self.linear(xb)\n",
        "    return out\n",
        "model = MnistModel()"
      ],
      "metadata": {
        "id": "lrj6EP--2qkb"
      },
      "execution_count": null,
      "outputs": []
    },
    {
      "cell_type": "code",
      "source": [
        "print(model.linear.weight.shape,model.linear.bias.shape)\n",
        "list(model.parameters())"
      ],
      "metadata": {
        "id": "h4a97cx-7GKF",
        "colab": {
          "base_uri": "https://localhost:8080/"
        },
        "outputId": "8977bc52-cede-48b7-e333-61ee5cd790eb"
      },
      "execution_count": null,
      "outputs": [
        {
          "output_type": "stream",
          "name": "stdout",
          "text": [
            "torch.Size([10, 784]) torch.Size([10])\n"
          ]
        },
        {
          "output_type": "execute_result",
          "data": {
            "text/plain": [
              "[Parameter containing:\n",
              " tensor([[ 0.0194,  0.0091,  0.0277,  ..., -0.0261, -0.0353,  0.0317],\n",
              "         [ 0.0300,  0.0085, -0.0044,  ...,  0.0316, -0.0195,  0.0119],\n",
              "         [-0.0181,  0.0110,  0.0191,  ...,  0.0118,  0.0231, -0.0308],\n",
              "         ...,\n",
              "         [-0.0277, -0.0189,  0.0286,  ..., -0.0230,  0.0158, -0.0177],\n",
              "         [-0.0074, -0.0324,  0.0319,  ..., -0.0017, -0.0296, -0.0097],\n",
              "         [-0.0300,  0.0353,  0.0095,  ..., -0.0291,  0.0090,  0.0278]],\n",
              "        requires_grad=True),\n",
              " Parameter containing:\n",
              " tensor([ 0.0172, -0.0195,  0.0051, -0.0058,  0.0180,  0.0074, -0.0154,  0.0236,\n",
              "         -0.0063,  0.0001], requires_grad=True)]"
            ]
          },
          "metadata": {},
          "execution_count": 20
        }
      ]
    },
    {
      "cell_type": "code",
      "source": [
        "for images,labels in train_loader:\n",
        "  outputs = model(images)\n",
        "  break\n",
        "print(outputs.shape)\n",
        "print('Sample outputs :\\n',outputs[:2].data)"
      ],
      "metadata": {
        "id": "kOWQLYkd_JPS",
        "colab": {
          "base_uri": "https://localhost:8080/"
        },
        "outputId": "09f9126a-c5c6-4b4f-f48a-18643f2e839f"
      },
      "execution_count": null,
      "outputs": [
        {
          "output_type": "stream",
          "name": "stdout",
          "text": [
            "torch.Size([100, 10])\n",
            "Sample outputs :\n",
            " tensor([[-0.1197, -0.0150,  0.2023, -0.0159,  0.0183, -0.1914, -0.2266,  0.2968,\n",
            "         -0.0156,  0.0195],\n",
            "        [-0.0040,  0.3534,  0.0048,  0.1990,  0.0912, -0.1075, -0.1723,  0.3322,\n",
            "         -0.1007, -0.2317]])\n"
          ]
        }
      ]
    },
    {
      "cell_type": "code",
      "source": [
        "import torch.nn.functional as F"
      ],
      "metadata": {
        "id": "ZjXjI4fHD4zv"
      },
      "execution_count": null,
      "outputs": []
    },
    {
      "cell_type": "code",
      "source": [
        "probs = F.softmax(outputs,dim=1)\n",
        "print('Sample probabilities : \\n',probs[:2].data)\n",
        "print('Sum : ',torch.sum(probs[0]).item())"
      ],
      "metadata": {
        "id": "K6Da0pkMFwhM",
        "colab": {
          "base_uri": "https://localhost:8080/"
        },
        "outputId": "614fed76-0347-4699-ad7c-62f959f22261"
      },
      "execution_count": null,
      "outputs": [
        {
          "output_type": "stream",
          "name": "stdout",
          "text": [
            "Sample probabilities : \n",
            " tensor([[0.0881, 0.0978, 0.1215, 0.0977, 0.1011, 0.0820, 0.0792, 0.1336, 0.0977,\n",
            "         0.1012],\n",
            "        [0.0942, 0.1347, 0.0950, 0.1154, 0.1036, 0.0850, 0.0796, 0.1319, 0.0855,\n",
            "         0.0750]])\n",
            "Sum :  1.0\n"
          ]
        }
      ]
    },
    {
      "cell_type": "code",
      "source": [
        "max_probs ,  preds  = torch.max(probs , dim = 1)\n",
        "print(preds)"
      ],
      "metadata": {
        "id": "EiZ7ks09GjCF",
        "colab": {
          "base_uri": "https://localhost:8080/"
        },
        "outputId": "230612ba-92ca-4578-df7f-ba25c3708acf"
      },
      "execution_count": null,
      "outputs": [
        {
          "output_type": "stream",
          "name": "stdout",
          "text": [
            "tensor([7, 1, 1, 8, 0, 7, 1, 8, 7, 8, 8, 7, 7, 7, 8, 7, 4, 0, 4, 3, 0, 7, 7, 0,\n",
            "        7, 1, 0, 3, 0, 3, 7, 3, 9, 7, 0, 8, 8, 0, 7, 8, 4, 0, 8, 7, 3, 7, 3, 0,\n",
            "        7, 8, 4, 1, 0, 7, 7, 1, 7, 8, 7, 1, 1, 7, 8, 7, 8, 1, 7, 4, 7, 8, 0, 4,\n",
            "        7, 8, 3, 7, 8, 4, 7, 7, 7, 7, 1, 0, 7, 2, 7, 0, 8, 7, 7, 1, 1, 7, 0, 8,\n",
            "        1, 8, 0, 7])\n"
          ]
        }
      ]
    },
    {
      "cell_type": "code",
      "source": [
        "labels"
      ],
      "metadata": {
        "id": "Q5UVwmAAJHRB",
        "colab": {
          "base_uri": "https://localhost:8080/"
        },
        "outputId": "2147617d-f8c4-437b-f2ba-ab5eaa812eeb"
      },
      "execution_count": null,
      "outputs": [
        {
          "output_type": "execute_result",
          "data": {
            "text/plain": [
              "tensor([1, 2, 5, 8, 9, 0, 0, 6, 0, 4, 0, 6, 2, 2, 0, 3, 2, 9, 3, 3, 5, 3, 2, 9,\n",
              "        0, 6, 7, 9, 5, 5, 8, 2, 5, 1, 3, 4, 9, 5, 9, 0, 4, 5, 2, 8, 2, 3, 2, 9,\n",
              "        2, 2, 4, 3, 0, 0, 5, 5, 6, 6, 0, 1, 3, 6, 3, 3, 0, 3, 2, 4, 8, 2, 9, 9,\n",
              "        1, 0, 2, 2, 8, 9, 0, 1, 8, 2, 7, 5, 5, 7, 3, 7, 2, 6, 8, 3, 3, 3, 1, 6,\n",
              "        3, 5, 9, 2])"
            ]
          },
          "metadata": {},
          "execution_count": 25
        }
      ]
    },
    {
      "cell_type": "code",
      "source": [
        "labels == preds"
      ],
      "metadata": {
        "collapsed": true,
        "id": "yxka_QZLJbdf",
        "colab": {
          "base_uri": "https://localhost:8080/"
        },
        "outputId": "df618777-99cb-4e13-ed86-876bc3eb18ec"
      },
      "execution_count": null,
      "outputs": [
        {
          "output_type": "execute_result",
          "data": {
            "text/plain": [
              "tensor([False, False, False,  True, False, False, False, False, False, False,\n",
              "        False, False, False, False, False, False, False, False, False,  True,\n",
              "        False, False, False, False, False, False, False, False, False, False,\n",
              "        False, False, False, False, False, False, False, False, False, False,\n",
              "         True, False, False, False, False, False, False, False, False, False,\n",
              "         True, False,  True, False, False, False, False, False, False,  True,\n",
              "        False, False, False, False, False, False, False,  True, False, False,\n",
              "        False, False, False, False, False, False,  True, False, False, False,\n",
              "        False, False, False, False, False, False, False, False, False, False,\n",
              "        False, False, False, False, False, False, False, False, False, False])"
            ]
          },
          "metadata": {},
          "execution_count": 26
        }
      ]
    },
    {
      "cell_type": "code",
      "source": [
        "def accuracy(l1,l2):\n",
        "  return torch.sum(l1==l2).item()/len(l1)"
      ],
      "metadata": {
        "id": "VLH2FUiOLBWz"
      },
      "execution_count": null,
      "outputs": []
    },
    {
      "cell_type": "code",
      "source": [
        "accuracy(preds,labels)"
      ],
      "metadata": {
        "id": "9tFabyFrLaZe",
        "colab": {
          "base_uri": "https://localhost:8080/"
        },
        "outputId": "b58dc6c9-2d1e-4e75-a185-21c932a6d0cb"
      },
      "execution_count": null,
      "outputs": [
        {
          "output_type": "execute_result",
          "data": {
            "text/plain": [
              "0.08"
            ]
          },
          "metadata": {},
          "execution_count": 28
        }
      ]
    },
    {
      "cell_type": "code",
      "source": [
        "loss_fn = F.cross_entropy"
      ],
      "metadata": {
        "id": "kEL8IVTlLgOY"
      },
      "execution_count": null,
      "outputs": []
    },
    {
      "cell_type": "code",
      "source": [
        "loss = loss_fn(outputs,labels)\n",
        "print(loss)"
      ],
      "metadata": {
        "id": "i_XkHTOiXbh0",
        "colab": {
          "base_uri": "https://localhost:8080/"
        },
        "outputId": "a1e86906-02e9-4a6c-a8e5-705ddf74652a"
      },
      "execution_count": null,
      "outputs": [
        {
          "output_type": "stream",
          "name": "stdout",
          "text": [
            "tensor(2.3239, grad_fn=<NllLossBackward0>)\n"
          ]
        }
      ]
    },
    {
      "cell_type": "code",
      "source": [
        "learning_rate = 0.001\n",
        "optimizer = torch.optim.SGD(model.parameters(),lr = learning_rate)"
      ],
      "metadata": {
        "id": "NnUq2e_LXwAg"
      },
      "execution_count": null,
      "outputs": []
    },
    {
      "cell_type": "code",
      "source": [
        "def loss_batch(model,loss_func,xb,yb,opt=None,metric=None):\n",
        "  preds = model(xb)\n",
        "  loss = loss_func(preds , yb)\n",
        "  if opt is not None:\n",
        "    loss.backward()\n",
        "    opt.step()\n",
        "    opt.zero_grad()\n",
        "  metric_result = None\n",
        "  if metric is not None:\n",
        "    metric_result = metric(preds,yb)\n",
        "  return loss.item(),len(xb),metric_result"
      ],
      "metadata": {
        "id": "YlJv_B2UYynl"
      },
      "execution_count": null,
      "outputs": []
    },
    {
      "cell_type": "code",
      "source": [
        "def evaluate(model,loss_fn,valid_dl,metric=None):\n",
        "  with torch.no_grad():\n",
        "    results = [loss_batch(model,loss_fn,xb,yb,metric=metric) for xb , yb in valid_dl]\n",
        "    losses , nums , metrices = zip(*results)\n",
        "    total = np.sum(nums)\n",
        "    avg_loss = np.sum(np.multiply(losses,nums))/total\n",
        "    avg_metric = None\n",
        "    if metric is not None:\n",
        "      avg_metrices = np.sum(np.multiply(metrices,nums))/total\n",
        "  return avg_loss,total,avg_metrices"
      ],
      "metadata": {
        "id": "GkV-XFxSbC8v"
      },
      "execution_count": null,
      "outputs": []
    },
    {
      "cell_type": "code",
      "source": [
        "def accuracy(outputs,labels):\n",
        "  _, preds = torch.max(outputs,dim=1)\n",
        "  return torch.sum(preds == labels).item()/len(preds)"
      ],
      "metadata": {
        "id": "r1scm2Ycdxdd"
      },
      "execution_count": null,
      "outputs": []
    },
    {
      "cell_type": "code",
      "source": [
        "def accuracy(outputs,labels):\n",
        "  _,preds = torch.max(outputs,dim=1)\n",
        "  return torch.sum(preds==labels).item()/len(preds)"
      ],
      "metadata": {
        "id": "oqrLixZ7gA3U"
      },
      "execution_count": null,
      "outputs": []
    },
    {
      "cell_type": "code",
      "source": [
        "val_loss , total , val_acc = evaluate(model,loss_fn,val_loader,metric=accuracy)\n",
        "print('loss : {:.4f}, Accuracy : {:.4f}'.format(val_loss,val_acc))"
      ],
      "metadata": {
        "id": "lTVTxQdkjLOd",
        "colab": {
          "base_uri": "https://localhost:8080/"
        },
        "outputId": "b54ed1d4-2ff3-4f5d-9a45-f3a8f77f698b"
      },
      "execution_count": null,
      "outputs": [
        {
          "output_type": "stream",
          "name": "stdout",
          "text": [
            "loss : 2.3158, Accuracy : 0.0823\n"
          ]
        }
      ]
    },
    {
      "cell_type": "code",
      "source": [
        "def fit(epochs,model,loss_fn,opt,train_dl,valid_dl,metric=None):\n",
        "  for epoch in range(epochs):\n",
        "    for xb,yb in train_dl:\n",
        "      loss,_,_ = loss_batch(model,loss_fn,xb,yb,opt)\n",
        "    result = evaluate(model,loss_fn,valid_dl,metric)\n",
        "    val_loss , total , val_metric = result\n",
        "    if metric is None:\n",
        "      print('Epoch[{}/{}], loss: {:.4f}'.format(epoch+1,epochs,val_loss))\n",
        "    else:\n",
        "      print('Epoch[{}/{}], loss: {:.4f},{}: {:.4f}'.format(epoch+1,epochs,val_loss,metric.__name__,val_metric))"
      ],
      "metadata": {
        "id": "79cysvntjuRe"
      },
      "execution_count": null,
      "outputs": []
    },
    {
      "cell_type": "code",
      "source": [
        "model = MnistModel()\n",
        "optimizer = torch.optim.SGD(model.parameters(),lr=learning_rate)"
      ],
      "metadata": {
        "id": "HQ-kPf2DnWTf"
      },
      "execution_count": null,
      "outputs": []
    },
    {
      "cell_type": "code",
      "source": [
        "fit(5,model,F.cross_entropy,optimizer,train_loader,val_loader,accuracy)"
      ],
      "metadata": {
        "id": "hYGgQSQfn_jL",
        "colab": {
          "base_uri": "https://localhost:8080/"
        },
        "outputId": "0c8fc5f5-3260-4c7c-d772-eb405eae57f4"
      },
      "execution_count": null,
      "outputs": [
        {
          "output_type": "stream",
          "name": "stdout",
          "text": [
            "Epoch[1/5], loss: 1.8838,accuracy: 0.6339\n",
            "Epoch[2/5], loss: 1.5897,accuracy: 0.7365\n",
            "Epoch[3/5], loss: 1.3820,accuracy: 0.7691\n",
            "Epoch[4/5], loss: 1.2320,accuracy: 0.7869\n",
            "Epoch[5/5], loss: 1.1204,accuracy: 0.7979\n"
          ]
        }
      ]
    },
    {
      "cell_type": "code",
      "source": [
        "test_dataset = MNIST(root='data/',\n",
        "                     train=False,\n",
        "                     transform = transforms.ToTensor())"
      ],
      "metadata": {
        "id": "ZusBl3eXr695"
      },
      "execution_count": null,
      "outputs": []
    },
    {
      "cell_type": "code",
      "source": [
        "img,label = test_dataset[0]\n",
        "plt.imshow(img[0],cmap='gray')\n",
        "print('Shape: ',img.shape)\n",
        "print('Label: ',label)"
      ],
      "metadata": {
        "id": "ZAvbxVQ4sIwq",
        "colab": {
          "base_uri": "https://localhost:8080/",
          "height": 465
        },
        "outputId": "e6631261-934e-4552-dc16-51de44a3533b"
      },
      "execution_count": null,
      "outputs": [
        {
          "output_type": "stream",
          "name": "stdout",
          "text": [
            "Shape:  torch.Size([1, 28, 28])\n",
            "Label:  7\n"
          ]
        },
        {
          "output_type": "display_data",
          "data": {
            "text/plain": [
              "<Figure size 640x480 with 1 Axes>"
            ],
            "image/png": "[encoded data removed]"
          },
          "metadata": {}
        }
      ]
    },
    {
      "cell_type": "code",
      "source": [
        "img.unsqueeze(0).shape"
      ],
      "metadata": {
        "id": "_2hsELy6sc3m",
        "colab": {
          "base_uri": "https://localhost:8080/"
        },
        "outputId": "224ddb50-bad5-4517-a2a0-3d72f5c91737"
      },
      "execution_count": null,
      "outputs": [
        {
          "output_type": "execute_result",
          "data": {
            "text/plain": [
              "torch.Size([1, 1, 28, 28])"
            ]
          },
          "metadata": {},
          "execution_count": 42
        }
      ]
    },
    {
      "cell_type": "code",
      "source": [
        "def predict_image(img,model):\n",
        "  xb = img.unsqueeze(0)\n",
        "  yb = model(xb)\n",
        "  _,preds = torch.max(yb,dim=1)\n",
        "  return preds[0].item()"
      ],
      "metadata": {
        "id": "6MKpsQEDszVq"
      },
      "execution_count": null,
      "outputs": []
    },
    {
      "cell_type": "code",
      "source": [
        "img , label = test_dataset[1839]\n",
        "plt.imshow(img[0],cmap='gray')\n",
        "print('Label: ',label,', Predicted: ',predict_image(img,model))"
      ],
      "metadata": {
        "id": "0keh9OtBtnB4",
        "colab": {
          "base_uri": "https://localhost:8080/",
          "height": 447
        },
        "outputId": "ce893f7a-6391-4866-cb5f-1ed51a52f90b"
      },
      "execution_count": null,
      "outputs": [
        {
          "output_type": "stream",
          "name": "stdout",
          "text": [
            "Label:  2 , Predicted:  8\n"
          ]
        },
        {
          "output_type": "display_data",
          "data": {
            "text/plain": [
              "<Figure size 640x480 with 1 Axes>"
            ],
            "image/png": "[encoded data removed]"
          },
          "metadata": {}
        }
      ]
    },
    {
      "cell_type": "markdown",
      "source": [
        "wrong prediction in above at index 1839"
      ],
      "metadata": {
        "id": "lxDg5sAGveY5"
      }
    },
    {
      "cell_type": "code",
      "source": [
        "test_loader = DataLoader(test_dataset,batch_size=200)\n",
        "test_loss, total, test_acc = evaluate(model,loss_fn,test_loader,metric=accuracy)\n",
        "print('Loss: {:.4f}, Accuracy: {:.4f}'.format(test_loss,test_acc))"
      ],
      "metadata": {
        "id": "33WDmMUyvSjj",
        "colab": {
          "base_uri": "https://localhost:8080/"
        },
        "outputId": "a0e8602f-a0c5-43af-caf8-4b9055eec3fd"
      },
      "execution_count": null,
      "outputs": [
        {
          "output_type": "stream",
          "name": "stdout",
          "text": [
            "Loss: 1.0883, Accuracy: 0.8193\n"
          ]
        }
      ]
    },
    {
      "cell_type": "code",
      "source": [
        "torch.save(model.state_dict(),'mnist-logistic.pth')"
      ],
      "metadata": {
        "id": "kGPjUdHBy2m7"
      },
      "execution_count": null,
      "outputs": []
    },
    {
      "cell_type": "code",
      "source": [
        "model.state_dict()"
      ],
      "metadata": {
        "id": "4h7yYH1Izl7J",
        "colab": {
          "base_uri": "https://localhost:8080/"
        },
        "outputId": "2a62dbb5-30f5-4c52-ff37-b800ee616c7b"
      },
      "execution_count": null,
      "outputs": [
        {
          "output_type": "execute_result",
          "data": {
            "text/plain": [
              "OrderedDict([('linear.weight',\n",
              "              tensor([[-0.0049, -0.0092,  0.0091,  ..., -0.0067, -0.0194, -0.0346],\n",
              "                      [-0.0194, -0.0156,  0.0040,  ..., -0.0022,  0.0185,  0.0020],\n",
              "                      [ 0.0273,  0.0059, -0.0203,  ...,  0.0210, -0.0016, -0.0289],\n",
              "                      ...,\n",
              "                      [-0.0273,  0.0071,  0.0066,  ..., -0.0149, -0.0267,  0.0345],\n",
              "                      [-0.0109,  0.0065,  0.0352,  ..., -0.0340, -0.0187,  0.0298],\n",
              "                      [ 0.0147, -0.0312, -0.0188,  ..., -0.0078,  0.0252, -0.0034]])),\n",
              "             ('linear.bias',\n",
              "              tensor([-0.0036,  0.0373, -0.0263, -0.0382,  0.0211, -0.0281,  0.0155,  0.0382,\n",
              "                      -0.0669, -0.0194]))])"
            ]
          },
          "metadata": {},
          "execution_count": 47
        }
      ]
    },
    {
      "cell_type": "code",
      "source": [
        "model2 = MnistModel()\n",
        "model2.load_state_dict(torch.load('mnist-logistic.pth'))\n",
        "model2.state_dict()"
      ],
      "metadata": {
        "id": "U28o9FKOzDA4",
        "colab": {
          "base_uri": "https://localhost:8080/"
        },
        "outputId": "2720841b-2d71-4623-f209-d2780a96acbf"
      },
      "execution_count": null,
      "outputs": [
        {
          "output_type": "execute_result",
          "data": {
            "text/plain": [
              "OrderedDict([('linear.weight',\n",
              "              tensor([[-0.0049, -0.0092,  0.0091,  ..., -0.0067, -0.0194, -0.0346],\n",
              "                      [-0.0194, -0.0156,  0.0040,  ..., -0.0022,  0.0185,  0.0020],\n",
              "                      [ 0.0273,  0.0059, -0.0203,  ...,  0.0210, -0.0016, -0.0289],\n",
              "                      ...,\n",
              "                      [-0.0273,  0.0071,  0.0066,  ..., -0.0149, -0.0267,  0.0345],\n",
              "                      [-0.0109,  0.0065,  0.0352,  ..., -0.0340, -0.0187,  0.0298],\n",
              "                      [ 0.0147, -0.0312, -0.0188,  ..., -0.0078,  0.0252, -0.0034]])),\n",
              "             ('linear.bias',\n",
              "              tensor([-0.0036,  0.0373, -0.0263, -0.0382,  0.0211, -0.0281,  0.0155,  0.0382,\n",
              "                      -0.0669, -0.0194]))])"
            ]
          },
          "metadata": {},
          "execution_count": 48
        }
      ]
    },
    {
      "cell_type": "code",
      "source": [
        "test_loss, total, test_acc = evaluate(model2,loss_fn,test_loader,metric=accuracy)\n",
        "print('Loss: {:.4f}, Accuracy: {:.4f}'.format(test_loss,test_acc))"
      ],
      "metadata": {
        "id": "I0OHsNISzsWJ",
        "colab": {
          "base_uri": "https://localhost:8080/"
        },
        "outputId": "7c35653c-dd2c-4423-a76f-c1e8042acf5c"
      },
      "execution_count": null,
      "outputs": [
        {
          "output_type": "stream",
          "name": "stdout",
          "text": [
            "Loss: 1.0883, Accuracy: 0.8193\n"
          ]
        }
      ]
    }
  ]
}